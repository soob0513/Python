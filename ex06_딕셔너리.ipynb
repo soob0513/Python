{
 "cells": [
  {
   "cell_type": "markdown",
   "id": "b01c320a",
   "metadata": {},
   "source": [
    "### 딕셔너리\n",
    "- dictionary는 단어 그대로 해석하면 사전이라는 뜻을 가지고 있다.\n",
    "- \"baseball\"이라는 단어는 \"야구\"라는 단어에 부합하듯, dictionary는 Key와 Value를 한 쌍으로 갖는 자료형\n",
    "- 기본형식\n",
    "     - a = { }\n",
    "     - b = {\"name\":\"MS\"}\n",
    "     - c = {1:5, 2:3}"
   ]
  },
  {
   "cell_type": "markdown",
   "id": "7f829c25",
   "metadata": {},
   "source": [
    "#### 딕셔너리 선언 및 타입 확인"
   ]
  },
  {
   "cell_type": "code",
   "execution_count": 1,
   "id": "bf3d3718",
   "metadata": {},
   "outputs": [
    {
     "data": {
      "text/plain": [
       "{'name': 'MS', 'age': '23', 'phone': '010-1234-1234'}"
      ]
     },
     "execution_count": 1,
     "metadata": {},
     "output_type": "execute_result"
    }
   ],
   "source": [
    "dic1 = {\"name\" :\"MS\", \"age\" : \"23\", \"phone\" : \"010-1234-1234\"}\n",
    "dic1"
   ]
  },
  {
   "cell_type": "code",
   "execution_count": 3,
   "id": "c3216f73",
   "metadata": {},
   "outputs": [
    {
     "name": "stdout",
     "output_type": "stream",
     "text": [
      "<class 'dict'>\n"
     ]
    }
   ],
   "source": [
    "print(type(dic1))"
   ]
  },
  {
   "cell_type": "markdown",
   "id": "cbf15cc4",
   "metadata": {},
   "source": [
    "#### 딕셔너리에 값 추가"
   ]
  },
  {
   "cell_type": "code",
   "execution_count": 4,
   "id": "e840668c",
   "metadata": {},
   "outputs": [
    {
     "data": {
      "text/plain": [
       "{'name': 'MS', 'age': '23', 'phone': '010-1234-1234', 'birth': '02/24'}"
      ]
     },
     "execution_count": 4,
     "metadata": {},
     "output_type": "execute_result"
    }
   ],
   "source": [
    "dic1['birth'] = '02/24'\n",
    "dic1"
   ]
  },
  {
   "cell_type": "code",
   "execution_count": 6,
   "id": "fbe3cf9c",
   "metadata": {},
   "outputs": [
    {
     "data": {
      "text/plain": [
       "{'노래 제목': '아무 노래'}"
      ]
     },
     "execution_count": 6,
     "metadata": {},
     "output_type": "execute_result"
    }
   ],
   "source": [
    "dic_test = {\"노래 제목\" : \"아무 노래\"}\n",
    "dic_test"
   ]
  },
  {
   "cell_type": "code",
   "execution_count": 7,
   "id": "737ecaf3",
   "metadata": {},
   "outputs": [
    {
     "data": {
      "text/plain": [
       "{'노래 제목': '아무 노래', '가수': '지코', '발매날짜': '2020.01.13'}"
      ]
     },
     "execution_count": 7,
     "metadata": {},
     "output_type": "execute_result"
    }
   ],
   "source": [
    "# dic_test라는 딕셔너리에 가수 : 지코, 발매날짜 : 2020.01.13\n",
    "dic_test['가수'] = '지코'\n",
    "dic_test['발매날짜'] = '2020.01.13'\n",
    "dic_test"
   ]
  },
  {
   "cell_type": "code",
   "execution_count": 10,
   "id": "a1869f0e",
   "metadata": {},
   "outputs": [
    {
     "data": {
      "text/plain": [
       "{'노래 제목': '아무 노래', ('가수', '발매날짜'): ('지코', '2020.01.13')}"
      ]
     },
     "execution_count": 10,
     "metadata": {},
     "output_type": "execute_result"
    }
   ],
   "source": [
    "dic_test = {\"노래 제목\" : \"아무 노래\"}\n",
    "dic_test['가수','발매날짜'] = '지코','2020.01.13'\n",
    "dic_test"
   ]
  },
  {
   "cell_type": "markdown",
   "id": "f73b4b8b",
   "metadata": {},
   "source": [
    "#### 값 가져오기"
   ]
  },
  {
   "cell_type": "code",
   "execution_count": 13,
   "id": "bbaaa2b1",
   "metadata": {},
   "outputs": [
    {
     "data": {
      "text/plain": [
       "'MS'"
      ]
     },
     "execution_count": 13,
     "metadata": {},
     "output_type": "execute_result"
    }
   ],
   "source": [
    "# 이름 접근\n",
    "dic1\n",
    "dic1['name']"
   ]
  },
  {
   "cell_type": "code",
   "execution_count": 14,
   "id": "9483b79e",
   "metadata": {},
   "outputs": [
    {
     "data": {
      "text/plain": [
       "'02/24'"
      ]
     },
     "execution_count": 14,
     "metadata": {},
     "output_type": "execute_result"
    }
   ],
   "source": [
    "# 생일 접근\n",
    "dic1['birth']"
   ]
  },
  {
   "cell_type": "code",
   "execution_count": 15,
   "id": "6d467367",
   "metadata": {},
   "outputs": [
    {
     "data": {
      "text/plain": [
       "'MS'"
      ]
     },
     "execution_count": 15,
     "metadata": {},
     "output_type": "execute_result"
    }
   ],
   "source": [
    "# 이름 가져오기\n",
    "dic1.get('name')"
   ]
  },
  {
   "cell_type": "code",
   "execution_count": 16,
   "id": "d620235e",
   "metadata": {},
   "outputs": [
    {
     "data": {
      "text/plain": [
       "'02/24'"
      ]
     },
     "execution_count": 16,
     "metadata": {},
     "output_type": "execute_result"
    }
   ],
   "source": [
    "# 생일 가져오기\n",
    "dic1.get('birth')"
   ]
  },
  {
   "cell_type": "code",
   "execution_count": 17,
   "id": "1301eabf",
   "metadata": {
    "collapsed": true
   },
   "outputs": [
    {
     "ename": "KeyError",
     "evalue": "'tall'",
     "output_type": "error",
     "traceback": [
      "\u001b[1;31m---------------------------------------------------------------------------\u001b[0m",
      "\u001b[1;31mKeyError\u001b[0m                                  Traceback (most recent call last)",
      "Cell \u001b[1;32mIn[17], line 2\u001b[0m\n\u001b[0;32m      1\u001b[0m \u001b[38;5;66;03m# 접근 방식의 차이\u001b[39;00m\n\u001b[1;32m----> 2\u001b[0m \u001b[38;5;28mprint\u001b[39m(dic1[\u001b[38;5;124m'\u001b[39m\u001b[38;5;124mtall\u001b[39m\u001b[38;5;124m'\u001b[39m])\n",
      "\u001b[1;31mKeyError\u001b[0m: 'tall'"
     ]
    }
   ],
   "source": [
    "# 접근 방식의 차이\n",
    "print(dic1['tall'])   # 오류가 발생한다"
   ]
  },
  {
   "cell_type": "code",
   "execution_count": 19,
   "id": "67bcde4e",
   "metadata": {},
   "outputs": [],
   "source": [
    "dic1.get('tall')     # 오류가 발생하지 않는다."
   ]
  },
  {
   "cell_type": "markdown",
   "id": "91e26f34",
   "metadata": {},
   "source": [
    "#### 딕셔너리 키 값만 가져오기"
   ]
  },
  {
   "cell_type": "code",
   "execution_count": 22,
   "id": "688a9081",
   "metadata": {},
   "outputs": [
    {
     "data": {
      "text/plain": [
       "dict_keys(['name', 'age', 'phone', 'birth'])"
      ]
     },
     "execution_count": 22,
     "metadata": {},
     "output_type": "execute_result"
    }
   ],
   "source": [
    "dic1.keys()"
   ]
  },
  {
   "cell_type": "markdown",
   "id": "5d424fc2",
   "metadata": {},
   "source": [
    "#### 딕셔너리 벨류 값만 가져오기"
   ]
  },
  {
   "cell_type": "code",
   "execution_count": 23,
   "id": "81594d31",
   "metadata": {},
   "outputs": [
    {
     "data": {
      "text/plain": [
       "dict_values(['MS', '23', '010-1234-1234', '02/24'])"
      ]
     },
     "execution_count": 23,
     "metadata": {},
     "output_type": "execute_result"
    }
   ],
   "source": [
    "dic1.values()"
   ]
  },
  {
   "cell_type": "markdown",
   "id": "3597f7e5",
   "metadata": {},
   "source": [
    "#### 딕셔너리의 아이템(키값) 벨류 모두 가져오기"
   ]
  },
  {
   "cell_type": "code",
   "execution_count": 24,
   "id": "ebb25f10",
   "metadata": {},
   "outputs": [
    {
     "data": {
      "text/plain": [
       "dict_items([('name', 'MS'), ('age', '23'), ('phone', '010-1234-1234'), ('birth', '02/24')])"
      ]
     },
     "execution_count": 24,
     "metadata": {},
     "output_type": "execute_result"
    }
   ],
   "source": [
    "dic1.items()"
   ]
  },
  {
   "cell_type": "code",
   "execution_count": 26,
   "id": "a3ac4e8b",
   "metadata": {},
   "outputs": [
    {
     "data": {
      "text/plain": [
       "[('name', 'MS'), ('age', '23'), ('phone', '010-1234-1234'), ('birth', '02/24')]"
      ]
     },
     "execution_count": 26,
     "metadata": {},
     "output_type": "execute_result"
    }
   ],
   "source": [
    "# <Tip>\n",
    "# 아이템 들을 리스트로 보고 싶을 때 --> 형변환\n",
    "list(dic1.items())"
   ]
  },
  {
   "cell_type": "markdown",
   "id": "922ff79d",
   "metadata": {},
   "source": [
    "### 딕셔너리와 for문의 활용"
   ]
  },
  {
   "cell_type": "code",
   "execution_count": 28,
   "id": "b30ccb57",
   "metadata": {},
   "outputs": [
    {
     "name": "stdout",
     "output_type": "stream",
     "text": [
      "name\n",
      "age\n",
      "phone\n",
      "birth\n"
     ]
    }
   ],
   "source": [
    "# for key in 리스트, range, 튜플, 문자열 : \n",
    "for key in dic1.keys() : # keys()를 사용하면 리스트 형태로 key값들이 순서를 가지게 됨\n",
    "    print(key)"
   ]
  },
  {
   "cell_type": "code",
   "execution_count": 30,
   "id": "b6b0f610",
   "metadata": {},
   "outputs": [
    {
     "name": "stdout",
     "output_type": "stream",
     "text": [
      "MS\n",
      "23\n",
      "010-1234-1234\n",
      "02/24\n"
     ]
    }
   ],
   "source": [
    "for key in dic1.values() : \n",
    "    print(key)"
   ]
  },
  {
   "cell_type": "code",
   "execution_count": 31,
   "id": "f91fbb57",
   "metadata": {},
   "outputs": [
    {
     "name": "stdout",
     "output_type": "stream",
     "text": [
      "('name', 'MS')\n",
      "('age', '23')\n",
      "('phone', '010-1234-1234')\n",
      "('birth', '02/24')\n"
     ]
    }
   ],
   "source": [
    "for key in dic1.items() : \n",
    "    print(key)"
   ]
  },
  {
   "cell_type": "markdown",
   "id": "2de99090",
   "metadata": {},
   "source": [
    "딕셔너리와 for문을 활용한 예제"
   ]
  },
  {
   "cell_type": "code",
   "execution_count": 34,
   "id": "511135e7",
   "metadata": {},
   "outputs": [
    {
     "data": {
      "text/plain": [
       "{'이름': ['손지영', '임경남', '조준용', '임보미', '김민수'],\n",
       " 'Python': [90, 50, 60, 80, 100],\n",
       " 'Java': [80, 90, 70, 60, 30],\n",
       " 'html/css': [80, 95, 80, 75, 50]}"
      ]
     },
     "execution_count": 34,
     "metadata": {},
     "output_type": "execute_result"
    }
   ],
   "source": [
    "score_dict = {'이름' : ['손지영', '임경남', '조준용', '임보미', '김민수'],\n",
    "             'Python' : [90, 50, 60, 80, 100],\n",
    "             'Java' : [80, 90, 70, 60, 30],\n",
    "             'html/css':[80, 95, 80, 75, 50]}\n",
    "score_dict"
   ]
  },
  {
   "cell_type": "code",
   "execution_count": 49,
   "id": "1f0f92e3",
   "metadata": {},
   "outputs": [
    {
     "name": "stdout",
     "output_type": "stream",
     "text": [
      "76.0\n"
     ]
    }
   ],
   "source": [
    "# 1. python 과목의 평균 점수 구하기\n",
    "p = score_dict['Python']\n",
    "a = (p[0]+p[1]+p[2]+p[3]+p[4])/len(p)\n",
    "print(a)"
   ]
  },
  {
   "cell_type": "code",
   "execution_count": 69,
   "id": "ae946c5c",
   "metadata": {},
   "outputs": [
    {
     "name": "stdout",
     "output_type": "stream",
     "text": [
      "76.0\n"
     ]
    }
   ],
   "source": [
    "p = score_dict['Python']\n",
    "n = 0\n",
    "for a in p:\n",
    "    n += a\n",
    "print(n /len(p))"
   ]
  },
  {
   "cell_type": "code",
   "execution_count": 113,
   "id": "100c7bca",
   "metadata": {},
   "outputs": [
    {
     "name": "stdout",
     "output_type": "stream",
     "text": [
      "파이썬 과목의 평균은 76.0입니다.\n"
     ]
    }
   ],
   "source": [
    "# 1. 선생님풀이\n",
    "sum1= 0\n",
    "a = score_dict['Python']\n",
    "# sum(a)/5\n",
    "\n",
    "for score in a : \n",
    "    sum1 += score\n",
    "print(f'파이썬 과목의 평균은 {sum1/len(a)}입니다.')"
   ]
  },
  {
   "cell_type": "code",
   "execution_count": 68,
   "id": "242befb0",
   "metadata": {},
   "outputs": [
    {
     "name": "stdout",
     "output_type": "stream",
     "text": [
      "<class 'int'>\n"
     ]
    }
   ],
   "source": [
    "print(type(len(p)))"
   ]
  },
  {
   "cell_type": "code",
   "execution_count": 70,
   "id": "c0bb2975",
   "metadata": {},
   "outputs": [
    {
     "name": "stdout",
     "output_type": "stream",
     "text": [
      "Python 평균 : 76.0\n",
      "Java 평균 : 66.0\n",
      "html/css 평균 : 76.0\n"
     ]
    }
   ],
   "source": [
    "# 2. 각 과목의 평균 구하기\n",
    "p = score_dict['Python']\n",
    "j = score_dict['Java']\n",
    "h = score_dict['html/css']\n",
    "pa = (p[0]+p[1]+p[2]+p[3]+p[4])/len(p)\n",
    "ja = (j[0]+j[1]+j[2]+j[3]+j[4])/len(j)\n",
    "ha = (h[0]+h[1]+h[2]+h[3]+h[4])/len(h)\n",
    "print('Python 평균 :', pa)\n",
    "print('Java 평균 :', ja)\n",
    "print('html/css 평균 :',ha)"
   ]
  },
  {
   "cell_type": "code",
   "execution_count": 95,
   "id": "1477c621",
   "metadata": {},
   "outputs": [
    {
     "data": {
      "text/plain": [
       "['Python', 'Java', 'html/css']"
      ]
     },
     "execution_count": 95,
     "metadata": {},
     "output_type": "execute_result"
    }
   ],
   "source": [
    "list(score_dict.keys())[1:]"
   ]
  },
  {
   "cell_type": "code",
   "execution_count": 103,
   "id": "c2713876",
   "metadata": {},
   "outputs": [
    {
     "name": "stdout",
     "output_type": "stream",
     "text": [
      "[90, 50, 60, 80, 100]\n",
      "[80, 90, 70, 60, 30]\n",
      "[80, 95, 80, 75, 50]\n"
     ]
    }
   ],
   "source": [
    "n = 0\n",
    "for sl in list(score_dict.keys())[1:] :\n",
    "    aa = score_dict[sl]\n",
    "    print(aa)"
   ]
  },
  {
   "cell_type": "code",
   "execution_count": 107,
   "id": "c1851564",
   "metadata": {},
   "outputs": [
    {
     "name": "stdout",
     "output_type": "stream",
     "text": [
      "16.0\n"
     ]
    }
   ],
   "source": [
    "n = 0\n",
    "for sl in list(score_dict.keys())[1:] :\n",
    "    aa = score_dict[sl]\n",
    "    b = aa[n]\n",
    "    n+=1\n",
    "    b = b+ n2\n",
    "    print('sl')\n",
    "    \n",
    "print(b/len(aa))"
   ]
  },
  {
   "cell_type": "code",
   "execution_count": 85,
   "id": "607681c1",
   "metadata": {},
   "outputs": [
    {
     "name": "stdout",
     "output_type": "stream",
     "text": [
      "Python 평균 : 76.0\n",
      "Java 평균 : 66.0\n",
      "html/css 평균 : 76.0\n"
     ]
    }
   ],
   "source": [
    "p = score_dict['Python']\n",
    "j = score_dict['Java']\n",
    "h = score_dict['html/css']\n",
    "np = 0\n",
    "nj = 0\n",
    "nh = 0\n",
    "for a in p:\n",
    "    np += a\n",
    "print('Python 평균 :',np/len(p))\n",
    "for b in j :\n",
    "    nj += b\n",
    "print('Java 평균 :',nj/len(j))\n",
    "for c in h :\n",
    "    nh += c\n",
    "print('html/css 평균 :',nh/len(h))"
   ]
  },
  {
   "cell_type": "code",
   "execution_count": 90,
   "id": "7e73ad07",
   "metadata": {},
   "outputs": [
    {
     "name": "stdout",
     "output_type": "stream",
     "text": [
      "90\n",
      "50\n",
      "60\n",
      "80\n",
      "100\n"
     ]
    }
   ],
   "source": [
    "p = score_dict['Python']\n",
    "j = score_dict['Java']\n",
    "h = score_dict['html/css']\n",
    "n = 0\n",
    "\n",
    "for key in score_dict['Python'] :\n",
    "    print(key)\n",
    "    \n"
   ]
  },
  {
   "cell_type": "code",
   "execution_count": 91,
   "id": "c299ae33",
   "metadata": {},
   "outputs": [
    {
     "ename": "SyntaxError",
     "evalue": "invalid syntax (3186882798.py, line 1)",
     "output_type": "error",
     "traceback": [
      "\u001b[1;36m  Cell \u001b[1;32mIn[91], line 1\u001b[1;36m\u001b[0m\n\u001b[1;33m    score_list = score_dict[]\u001b[0m\n\u001b[1;37m                            ^\u001b[0m\n\u001b[1;31mSyntaxError\u001b[0m\u001b[1;31m:\u001b[0m invalid syntax\n"
     ]
    }
   ],
   "source": [
    "n = 1\n",
    "for :\n",
    "    score_list = score_dict[n]\n",
    "    n+=1"
   ]
  },
  {
   "cell_type": "code",
   "execution_count": 116,
   "id": "f83d7cba",
   "metadata": {},
   "outputs": [
    {
     "name": "stdout",
     "output_type": "stream",
     "text": [
      "Python의 평균 :  76.0\n",
      "Java의 평균 :  66.0\n",
      "html/css의 평균 :  76.0\n"
     ]
    }
   ],
   "source": [
    "# 2. 선생님풀이\n",
    "avg_py, avg_j, avg_ht = 0, 0, 0\n",
    "for i in score_dict.keys() :\n",
    "    if i =='Python' : \n",
    "        avg_py = sum(score_dict[i])/5\n",
    "    if i == 'Java' :\n",
    "        avg_j = sum(score_dict[i])/5\n",
    "    if i == 'html/css' :\n",
    "        avg_ht = sum(score_dict[i])/5\n",
    "print('Python의 평균 : ',avg_py)\n",
    "print('Java의 평균 : ',avg_j)\n",
    "print('html/css의 평균 : ',avg_ht)"
   ]
  },
  {
   "cell_type": "code",
   "execution_count": 117,
   "id": "e8b51468",
   "metadata": {},
   "outputs": [
    {
     "data": {
      "text/plain": [
       "[90, 50, 60, 80, 100]"
      ]
     },
     "execution_count": 117,
     "metadata": {},
     "output_type": "execute_result"
    }
   ],
   "source": [
    "score_dict['Python']"
   ]
  },
  {
   "cell_type": "code",
   "execution_count": 118,
   "id": "8e38aaef",
   "metadata": {},
   "outputs": [
    {
     "name": "stdout",
     "output_type": "stream",
     "text": [
      "Python 평균 :  76.0\n",
      "Java 평균 :  66.0\n",
      "html/css 평균 :  76.0\n"
     ]
    }
   ],
   "source": [
    "# 2. 선생님풀이 - 2\n",
    "avg = 0\n",
    "for i in list(score_dict.keys())[1:] :\n",
    "    avg = sum(score_dict[i]) / 5\n",
    "    print(f'{i} 평균 : ', avg)"
   ]
  },
  {
   "cell_type": "code",
   "execution_count": 82,
   "id": "d1b722a3",
   "metadata": {},
   "outputs": [
    {
     "name": "stdout",
     "output_type": "stream",
     "text": [
      "이름을 정확하게 기입하세요 >> 임경남\n",
      "임경남의 전 과목 성적 평균 : 78.33333333333333\n"
     ]
    }
   ],
   "source": [
    "# 3. 이름을 입력 받아서 해당하는 이름이 있으면 그 사람 성적의 평균을 구하시오.\n",
    "d = score_dict['이름']\n",
    "p = score_dict['Python']\n",
    "j = score_dict['Java']\n",
    "h = score_dict['html/css']\n",
    "name = input('이름을 정확하게 기입하세요 >> ')\n",
    "i = d.index(f'{name}')\n",
    "aa = (p[i] + j[i] + h[i]) /3\n",
    "print(f'{name}의 전 과목 성적 평균 :',aa)"
   ]
  },
  {
   "cell_type": "code",
   "execution_count": 128,
   "id": "3464be58",
   "metadata": {},
   "outputs": [
    {
     "name": "stdout",
     "output_type": "stream",
     "text": [
      "이름을 정확하게 기입하세요 >>김철수\n",
      "검색 결과가 없습니다.\n"
     ]
    }
   ],
   "source": [
    "# 3. 선생님풀이\n",
    "avg = 0\n",
    "name = input('이름을 정확하게 기입하세요 >>')\n",
    "check = True\n",
    "for i in range(len(score_dict['이름'])) :   # i = 0 ~ 4, 5번 반복하겠다!\n",
    "    if name == score_dict['이름'][i] :   # 선생님들의 이름이 순서대로 반복하며 꺼내짐\n",
    "        avg = (score_dict['Python'][i]+score_dict['Java'][i]+score_dict['html/css'][i])/3        \n",
    "        print(f'{name}의 전 과목 성적 평균 : {avg}')\n",
    "        check = False\n",
    "\n",
    "if check :  # 이름이 없었다\n",
    "    print('검색 결과가 없습니다.')"
   ]
  },
  {
   "cell_type": "code",
   "execution_count": null,
   "id": "e8fd3ce4",
   "metadata": {},
   "outputs": [],
   "source": [
    "score_dict['Python']"
   ]
  },
  {
   "cell_type": "code",
   "execution_count": 123,
   "id": "55647c62",
   "metadata": {},
   "outputs": [
    {
     "data": {
      "text/plain": [
       "5"
      ]
     },
     "execution_count": 123,
     "metadata": {},
     "output_type": "execute_result"
    }
   ],
   "source": [
    "len(score_dict['이름'])"
   ]
  },
  {
   "cell_type": "code",
   "execution_count": 124,
   "id": "d50cd7c7",
   "metadata": {},
   "outputs": [
    {
     "data": {
      "text/plain": [
       "5"
      ]
     },
     "execution_count": 124,
     "metadata": {},
     "output_type": "execute_result"
    }
   ],
   "source": [
    "len(score_dict['이름'])"
   ]
  },
  {
   "cell_type": "code",
   "execution_count": 121,
   "id": "2215b7be",
   "metadata": {},
   "outputs": [
    {
     "data": {
      "text/plain": [
       "['손지영', '임경남', '조준용', '임보미', '김민수']"
      ]
     },
     "execution_count": 121,
     "metadata": {},
     "output_type": "execute_result"
    }
   ],
   "source": [
    "score_dict['이름']"
   ]
  },
  {
   "cell_type": "code",
   "execution_count": null,
   "id": "b902ae78",
   "metadata": {},
   "outputs": [],
   "source": []
  },
  {
   "cell_type": "code",
   "execution_count": null,
   "id": "4827ac19",
   "metadata": {},
   "outputs": [],
   "source": []
  },
  {
   "cell_type": "code",
   "execution_count": null,
   "id": "a437537e",
   "metadata": {},
   "outputs": [],
   "source": []
  }
 ],
 "metadata": {
  "kernelspec": {
   "display_name": "Python 3 (ipykernel)",
   "language": "python",
   "name": "python3"
  },
  "language_info": {
   "codemirror_mode": {
    "name": "ipython",
    "version": 3
   },
   "file_extension": ".py",
   "mimetype": "text/x-python",
   "name": "python",
   "nbconvert_exporter": "python",
   "pygments_lexer": "ipython3",
   "version": "3.11.5"
  }
 },
 "nbformat": 4,
 "nbformat_minor": 5
}
