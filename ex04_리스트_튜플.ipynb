{
 "cells": [
  {
   "cell_type": "markdown",
   "id": "1fd1fba3",
   "metadata": {},
   "source": [
    "### 리스트란?\n",
    "- list\n",
    "- 파이썬의 자료 구조 형태 중 하나\n",
    "- 순서가 있는 수정 가능한 객체의 집합 : 추가, 수정, 삭제 가능\n",
    "    - 순서가 있다 == 인덱스 번호가 있다 ==> 인덱싱, 슬라이싱이 가능하다\n",
    "- 기호는 대괄호 ([ ])를 사용하고, 내부의 요소는 콤마(,)로 구분"
   ]
  },
  {
   "cell_type": "markdown",
   "id": "0f2dde7c",
   "metadata": {},
   "source": [
    "- 리스트의 기본 구조"
   ]
  },
  {
   "cell_type": "code",
   "execution_count": 5,
   "id": "eb599b6f",
   "metadata": {},
   "outputs": [
    {
     "data": {
      "text/plain": [
       "[1, ['my', 'name']]"
      ]
     },
     "execution_count": 5,
     "metadata": {},
     "output_type": "execute_result"
    }
   ],
   "source": [
    "# 빈 리스트\n",
    "lst1 = []\n",
    "\n",
    "# 숫자형 요소값을 담은 리스트\n",
    "lst2 = [1, 2, 3]\n",
    "\n",
    "# 문자열 요소값을 담은 리스트\n",
    "lst3 = ['my', 'name']\n",
    "\n",
    "# 숫자형과 문자열을 같이 담고 있는 리스트\n",
    "lst4 = [1, 'my', 'name']\n",
    "\n",
    "#숫자형과 리스트 요소를 가지는 리스트\n",
    "lst5 = [1, ['my', 'name']]\n",
    "lst5"
   ]
  },
  {
   "cell_type": "code",
   "execution_count": 6,
   "id": "8b1d85d6",
   "metadata": {},
   "outputs": [],
   "source": [
    "# 리스트는 자료를 변수 하나에 한 개만 저장하는 것이 아니라!\\\n",
    "# 여러 개를 동시에 저장할 수 있도록 하는 자료 구조\n",
    "# 중요한 포인트!   --> 더 많은 데이터(리스트의 요소단위)를 저장하기 위함"
   ]
  },
  {
   "cell_type": "markdown",
   "id": "c1e3e99e",
   "metadata": {},
   "source": [
    "### 리스트 인덱싱 & 슬라이싱\n",
    "- 리스트에 여러 값을 저장하고 각 데이터값에 접근하는 방법\n",
    "- 인덱싱(indexing) : 무엇인가를 '가리킨다'는 의미\n",
    "- 슬라이싱(slicing) : 무엇인가를 '잘라낸다'는 의미"
   ]
  },
  {
   "cell_type": "markdown",
   "id": "7672c1bb",
   "metadata": {},
   "source": [
    "#### 리스트 인덱싱\n",
    "- 리스트이름[인덱스번호]"
   ]
  },
  {
   "cell_type": "code",
   "execution_count": 12,
   "id": "a6603253",
   "metadata": {},
   "outputs": [
    {
     "name": "stdout",
     "output_type": "stream",
     "text": [
      "2라는 요소값 접근 :  2\n",
      "7라는 요소값 접근 :  7\n",
      "10이라는 요소값 접근 :  10\n",
      "0번째와 4번째 요소값 더하기! :  12\n"
     ]
    }
   ],
   "source": [
    "lst1 = [2, 5, 7, 9, 10]\n",
    "lst1\n",
    "\n",
    "# [ ]를 사용해서 인덱스 번호에 접근\n",
    "print('2라는 요소값 접근 : ',lst1[0])\n",
    "print('7라는 요소값 접근 : ',lst1[2])\n",
    "print('10이라는 요소값 접근 : ',lst1[-1])\n",
    "# 인덱싱을 하고나면 자료의 형태가 변한다?!\n",
    "# --> 요소값끼리 인덱싱해서 연산하는게 가능!\n",
    "print('0번째와 4번째 요소값 더하기! : ',lst1[0]+lst1[4])"
   ]
  },
  {
   "cell_type": "code",
   "execution_count": 13,
   "id": "977aef45",
   "metadata": {},
   "outputs": [
    {
     "data": {
      "text/plain": [
       "[2, 3]"
      ]
     },
     "execution_count": 13,
     "metadata": {},
     "output_type": "execute_result"
    }
   ],
   "source": [
    "lst2 = [2]\n",
    "lst3 = [3]\n",
    "lst2 + lst3"
   ]
  },
  {
   "cell_type": "code",
   "execution_count": 15,
   "id": "a9c04ebc",
   "metadata": {},
   "outputs": [
    {
     "data": {
      "text/plain": [
       "5"
      ]
     },
     "execution_count": 15,
     "metadata": {},
     "output_type": "execute_result"
    }
   ],
   "source": [
    "lst2 = [2]\n",
    "lst3 = [3]\n",
    "lst2[0] + lst3[0]"
   ]
  },
  {
   "cell_type": "markdown",
   "id": "9d337453",
   "metadata": {},
   "source": [
    "#### 리스트 인덱싱 예제\n",
    "- 'b'라는 값에 접근해보시오."
   ]
  },
  {
   "cell_type": "code",
   "execution_count": 16,
   "id": "654b43ee",
   "metadata": {},
   "outputs": [
    {
     "data": {
      "text/plain": [
       "[1, 2, 3, ['a', 'b', 'c']]"
      ]
     },
     "execution_count": 16,
     "metadata": {},
     "output_type": "execute_result"
    }
   ],
   "source": [
    "lst2 = [1, 2, 3,['a', 'b', 'c']]   # 리스트 안에 리스트가 있는 것을 2차원 리스트 라고 한다.\n",
    "lst2                               # 리스트 -> 일종의 문을 여는 것!"
   ]
  },
  {
   "cell_type": "code",
   "execution_count": 20,
   "id": "169696e1",
   "metadata": {},
   "outputs": [
    {
     "data": {
      "text/plain": [
       "['a', 'b', 'c']"
      ]
     },
     "execution_count": 20,
     "metadata": {},
     "output_type": "execute_result"
    }
   ],
   "source": [
    "lst3 = lst2[3]\n",
    "lst3"
   ]
  },
  {
   "cell_type": "code",
   "execution_count": 21,
   "id": "725e30b5",
   "metadata": {},
   "outputs": [
    {
     "data": {
      "text/plain": [
       "'b'"
      ]
     },
     "execution_count": 21,
     "metadata": {},
     "output_type": "execute_result"
    }
   ],
   "source": [
    "lst3[1]"
   ]
  },
  {
   "cell_type": "code",
   "execution_count": 23,
   "id": "78993be9",
   "metadata": {},
   "outputs": [
    {
     "data": {
      "text/plain": [
       "['a', 'b', 'c']"
      ]
     },
     "execution_count": 23,
     "metadata": {},
     "output_type": "execute_result"
    }
   ],
   "source": [
    "# ['a', 'b', 'c']라는 데이터에 접근\n",
    "lst3 = lst2[3]\n",
    "lst3"
   ]
  },
  {
   "cell_type": "code",
   "execution_count": 26,
   "id": "f84d2daa",
   "metadata": {},
   "outputs": [
    {
     "name": "stdout",
     "output_type": "stream",
     "text": [
      "b\n",
      "b\n"
     ]
    }
   ],
   "source": [
    "# lst3에서 다시 'b'라는 데이터에 접근\n",
    "print(lst3[1])\n",
    "print(lst2[3][1])"
   ]
  },
  {
   "cell_type": "markdown",
   "id": "3e8535fb",
   "metadata": {},
   "source": [
    "#### 리스트 슬라이싱\n",
    "- 리스트이름[시작 인덱스 값: 끝 인덱스 값 + 1]\n",
    "- 시작 인덱스부터 끝 인덱스까지 범위 값을 반환 (끝 인덱스는 포함되지 않는다.)"
   ]
  },
  {
   "cell_type": "code",
   "execution_count": 27,
   "id": "1fb90189",
   "metadata": {},
   "outputs": [
    {
     "data": {
      "text/plain": [
       "[1, 2]"
      ]
     },
     "execution_count": 27,
     "metadata": {},
     "output_type": "execute_result"
    }
   ],
   "source": [
    "lst3 = [0, 1, 2, 3, 4]\n",
    "# 1부터 2 요소값에 접근\n",
    "lst3[1:3]"
   ]
  },
  {
   "cell_type": "code",
   "execution_count": 28,
   "id": "ee3166f6",
   "metadata": {},
   "outputs": [
    {
     "data": {
      "text/plain": [
       "[0, 1]"
      ]
     },
     "execution_count": 28,
     "metadata": {},
     "output_type": "execute_result"
    }
   ],
   "source": [
    "# 0, 1 요소값에 접근\n",
    "lst3[0:2] # = lst3[:2]"
   ]
  },
  {
   "cell_type": "code",
   "execution_count": 29,
   "id": "fb7b560a",
   "metadata": {},
   "outputs": [
    {
     "data": {
      "text/plain": [
       "[3, 4]"
      ]
     },
     "execution_count": 29,
     "metadata": {},
     "output_type": "execute_result"
    }
   ],
   "source": [
    "# 3, 4 요소값에 접근\n",
    "lst3[3:5]  # = lst3[3:]"
   ]
  },
  {
   "cell_type": "code",
   "execution_count": 31,
   "id": "527223ba",
   "metadata": {},
   "outputs": [
    {
     "data": {
      "text/plain": [
       "[0, 1, 2, 3, 4]"
      ]
     },
     "execution_count": 31,
     "metadata": {},
     "output_type": "execute_result"
    }
   ],
   "source": [
    "# 리스트에 있는 모든 요소값에 접근\n",
    "lst3[0:5]  # = lst3[:]\n",
    "# 슬라이싱을 통해서 나온 결과 값의 자료 형태 -> list 형태"
   ]
  },
  {
   "cell_type": "markdown",
   "id": "30862282",
   "metadata": {},
   "source": [
    "#### 리스트 연산\n",
    "- 리스트와 리스트끼리 더하면?"
   ]
  },
  {
   "cell_type": "code",
   "execution_count": 33,
   "id": "402998be",
   "metadata": {},
   "outputs": [
    {
     "data": {
      "text/plain": [
       "[1, 2, 3, 3, 4, 5, 6]"
      ]
     },
     "execution_count": 33,
     "metadata": {},
     "output_type": "execute_result"
    }
   ],
   "source": [
    "lst4 = [1, 2, 3]\n",
    "lst5 = [3, 4, 5, 6]\n",
    "lst4 + lst5   # 결과는 연결연산을 하게 된다. 숫자끼리(요소끼리) 연산 X"
   ]
  },
  {
   "cell_type": "markdown",
   "id": "f452e136",
   "metadata": {},
   "source": [
    "### 리스트 관련함수★"
   ]
  },
  {
   "cell_type": "markdown",
   "id": "71f3f5ac",
   "metadata": {},
   "source": [
    "#### 리스트에 값을 추가하는 함수 : append(), insert()\n",
    "- append( ) : 리스트에 맨 뒤에 값을 추가하는 함수\n",
    "- insert( ) : 사용자가 지정한 위치에 값을 추가하는 함수"
   ]
  },
  {
   "cell_type": "code",
   "execution_count": 41,
   "id": "55e90e8f",
   "metadata": {},
   "outputs": [],
   "source": [
    "# append 함수 : 리스트이름.append(값)\n",
    "lst_fs = ['사과', '포도', ['수박','멜론', '복숭아'], '딸기', '오렌지']"
   ]
  },
  {
   "cell_type": "code",
   "execution_count": 44,
   "id": "ec1b9a01",
   "metadata": {},
   "outputs": [
    {
     "data": {
      "text/plain": [
       "['사과', '딸기', '수박', '블루베리']"
      ]
     },
     "execution_count": 44,
     "metadata": {},
     "output_type": "execute_result"
    }
   ],
   "source": [
    "# 내가 좋아하는 과일만 인덱싱해서 빈 리스트 안에 차곡차곡 집어넣기\n",
    "# 빈 리스트의 이름은 choice_lst 라고 함\n",
    "choice_lst = []  # 빈 리스트 선언\n",
    "choice_lst.append(lst_fs[0])     # 사과\n",
    "choice_lst.append(lst_fs[-2])    # 딸기\n",
    "choice_lst.append(lst_fs[2][0])  # 수박\n",
    "choice_lst.append('블루베리')\n",
    "choice_lst"
   ]
  },
  {
   "cell_type": "code",
   "execution_count": 45,
   "id": "7f74dab3",
   "metadata": {
    "scrolled": true
   },
   "outputs": [
    {
     "data": {
      "text/plain": [
       "['사과', '딸기', '수박', '블루베리', '사과']"
      ]
     },
     "execution_count": 45,
     "metadata": {},
     "output_type": "execute_result"
    }
   ],
   "source": [
    "choice_lst.append(lst_fs[0])\n",
    "choice_lst"
   ]
  },
  {
   "cell_type": "markdown",
   "id": "7e7a6d47",
   "metadata": {},
   "source": [
    "- insert() 함수"
   ]
  },
  {
   "cell_type": "code",
   "execution_count": 2,
   "id": "9057d2d3",
   "metadata": {},
   "outputs": [],
   "source": [
    "# insert( ) : 사용자가 지정한 위치에 값을 추가하는 함수\n",
    "lst5 = [0, 1, 2, 3, 4]\n",
    "lst5.insert(1, 5)"
   ]
  },
  {
   "cell_type": "code",
   "execution_count": 3,
   "id": "0ac31e86",
   "metadata": {},
   "outputs": [
    {
     "data": {
      "text/plain": [
       "[0, 5, 1, 2, 3, 4]"
      ]
     },
     "execution_count": 3,
     "metadata": {},
     "output_type": "execute_result"
    }
   ],
   "source": [
    "lst5   # 1번 인덱스 자리에 5라는 값을 추가하면 기존에 있던 데이터들이 한 칸씩 뒤로 밀려남"
   ]
  },
  {
   "cell_type": "markdown",
   "id": "fa6ac6b3",
   "metadata": {},
   "source": [
    "- 리스트 insert 실습예제"
   ]
  },
  {
   "cell_type": "markdown",
   "id": "2f690889",
   "metadata": {},
   "source": [
    "정수 형태의 인덱스 값과 노래 제목, 가수명을 각각 입력 받은 후 변수에 저장하고, insert 함수를 이용하여 리스트 music_lst에 새로운 값을 추가하시오."
   ]
  },
  {
   "cell_type": "code",
   "execution_count": 18,
   "id": "4f182b97",
   "metadata": {},
   "outputs": [
    {
     "data": {
      "text/plain": [
       "[['OOTD', '드림캐쳐'], ['어쩌나', '세븐틴'], ['아파트', '윤수일']]"
      ]
     },
     "execution_count": 18,
     "metadata": {},
     "output_type": "execute_result"
    }
   ],
   "source": [
    "music_lst = [['OOTD', '드림캐쳐'], ['어쩌나', '세븐틴'], ['아파트', '윤수일']]\n",
    "music_lst"
   ]
  },
  {
   "cell_type": "code",
   "execution_count": 19,
   "id": "1b2f41f0",
   "metadata": {},
   "outputs": [
    {
     "name": "stdout",
     "output_type": "stream",
     "text": [
      "인덱스 위치 입력 >> 0\n",
      "노래제목 입력 >> 혜성\n",
      "아티스트 입력 >> 윤하\n",
      "music_lst :  [['혜성', '윤하'], ['OOTD', '드림캐쳐'], ['어쩌나', '세븐틴'], ['아파트', '윤수일']]\n"
     ]
    }
   ],
   "source": [
    "loc = int(input('인덱스 위치 입력 >> '))\n",
    "song = input('노래제목 입력 >> ')\n",
    "singer = input('아티스트 입력 >> ')\n",
    "\n",
    "# 리스트이름.insert(인덱스 위치, 집어넣을 값)\n",
    "music_lst.insert(loc,[song, singer])\n",
    "print('music_lst : ', music_lst)"
   ]
  },
  {
   "cell_type": "markdown",
   "id": "c49281d2",
   "metadata": {},
   "source": [
    "#### 리스트 수정"
   ]
  },
  {
   "cell_type": "code",
   "execution_count": 30,
   "id": "218176d5",
   "metadata": {},
   "outputs": [
    {
     "data": {
      "text/plain": [
       "[0, 1, 2, 3, 4]"
      ]
     },
     "execution_count": 30,
     "metadata": {},
     "output_type": "execute_result"
    }
   ],
   "source": [
    "lst6 = [0, 1, 2, 3, 4]\n",
    "lst6"
   ]
  },
  {
   "cell_type": "code",
   "execution_count": 31,
   "id": "aa2a749b",
   "metadata": {},
   "outputs": [
    {
     "name": "stdout",
     "output_type": "stream",
     "text": [
      "수정 전 :  1\n",
      "수정 후 :  7\n"
     ]
    }
   ],
   "source": [
    "print('수정 전 : ', lst6[1])\n",
    "lst6[1] = 7   # 1번 인덱스 자리에 있는 요소를 7로 수정하겠다!\n",
    "print('수정 후 : ', lst6[1])"
   ]
  },
  {
   "cell_type": "code",
   "execution_count": 26,
   "id": "d1b17982",
   "metadata": {
    "collapsed": true
   },
   "outputs": [
    {
     "ename": "TypeError",
     "evalue": "can only assign an iterable",
     "output_type": "error",
     "traceback": [
      "\u001b[1;31m---------------------------------------------------------------------------\u001b[0m",
      "\u001b[1;31mTypeError\u001b[0m                                 Traceback (most recent call last)",
      "Cell \u001b[1;32mIn[26], line 3\u001b[0m\n\u001b[0;32m      1\u001b[0m lst6[\u001b[38;5;241m2\u001b[39m:\u001b[38;5;241m4\u001b[39m]   \u001b[38;5;66;03m# 슬라이싱 한 대상도 수정이 될까?\u001b[39;00m\n\u001b[1;32m----> 3\u001b[0m lst6[\u001b[38;5;241m2\u001b[39m:\u001b[38;5;241m4\u001b[39m] \u001b[38;5;241m=\u001b[39m \u001b[38;5;241m7\u001b[39m\n",
      "\u001b[1;31mTypeError\u001b[0m: can only assign an iterable"
     ]
    }
   ],
   "source": [
    "lst6[2:4]   # 슬라이싱 한 대상도 수정이 될까?\n",
    "\n",
    "lst6[2:4] = 7  # 오류 발생!\n",
    "# TypeError: can only assign an iterable\n",
    "# 형태오류 : 반복 가능한 대상만 (수정) 가능"
   ]
  },
  {
   "cell_type": "code",
   "execution_count": 32,
   "id": "f64dce67",
   "metadata": {},
   "outputs": [
    {
     "name": "stdout",
     "output_type": "stream",
     "text": [
      "[0, 7, 2, 3, 4]\n",
      "[0, 7, 7, 4]\n"
     ]
    }
   ],
   "source": [
    "print(lst6)\n",
    "lst6[2:4] = [7]   # 데이터 형태를 맞춰주면 수정이 가능하다\n",
    "print(lst6)"
   ]
  },
  {
   "cell_type": "markdown",
   "id": "1f9f76b5",
   "metadata": {},
   "source": [
    "#### 리스트 삭제\n",
    "- del 키워드 이용\n",
    "- remove() 라는 함수를 사용"
   ]
  },
  {
   "cell_type": "code",
   "execution_count": 34,
   "id": "360904ac",
   "metadata": {},
   "outputs": [
    {
     "name": "stdout",
     "output_type": "stream",
     "text": [
      "[0, 2, 3, 4]\n"
     ]
    }
   ],
   "source": [
    "lst7 = [0, 1, 2, 3, 4]\n",
    "lst7  # 1번 인덱스 값 삭제\n",
    "\n",
    "del lst7[1]\n",
    "print(lst7)"
   ]
  },
  {
   "cell_type": "code",
   "execution_count": 35,
   "id": "3d2f38b1",
   "metadata": {},
   "outputs": [
    {
     "name": "stdout",
     "output_type": "stream",
     "text": [
      "[0, 2, 3, 4]\n"
     ]
    }
   ],
   "source": [
    "lst7 = [0, 1, 2, 3, 4]\n",
    "# remove() 함수를 사용해서 1 이라는 요소값 삭제\n",
    "lst7.remove(1)\n",
    "print(lst7)"
   ]
  },
  {
   "cell_type": "code",
   "execution_count": 37,
   "id": "0b7546cb",
   "metadata": {},
   "outputs": [
    {
     "ename": "ValueError",
     "evalue": "list.remove(x): x not in list",
     "output_type": "error",
     "traceback": [
      "\u001b[1;31m---------------------------------------------------------------------------\u001b[0m",
      "\u001b[1;31mValueError\u001b[0m                                Traceback (most recent call last)",
      "Cell \u001b[1;32mIn[37], line 1\u001b[0m\n\u001b[1;32m----> 1\u001b[0m lst7\u001b[38;5;241m.\u001b[39mremove(\u001b[38;5;241m1\u001b[39m)\n",
      "\u001b[1;31mValueError\u001b[0m: list.remove(x): x not in list"
     ]
    }
   ],
   "source": [
    "lst7.remove(1)   # 1이라는 값이 리스트 안에서 이미 삭제되었기 때문에 오류!"
   ]
  },
  {
   "cell_type": "markdown",
   "id": "68cd4213",
   "metadata": {},
   "source": [
    "#### 리스트 정렬"
   ]
  },
  {
   "cell_type": "code",
   "execution_count": 39,
   "id": "e8466237",
   "metadata": {},
   "outputs": [],
   "source": [
    "lst8 = [9 , 77, 13 , 51, 100, 3]\n",
    "lst8.sort()"
   ]
  },
  {
   "cell_type": "code",
   "execution_count": 41,
   "id": "e6973fd0",
   "metadata": {},
   "outputs": [
    {
     "data": {
      "text/plain": [
       "[3, 9, 13, 51, 77, 100]"
      ]
     },
     "execution_count": 41,
     "metadata": {},
     "output_type": "execute_result"
    }
   ],
   "source": [
    "lst8   # 정렬 기준 : 오름차순"
   ]
  },
  {
   "cell_type": "markdown",
   "id": "5105b6fd",
   "metadata": {},
   "source": [
    "리스트 순서를 역순으로 뒤집기"
   ]
  },
  {
   "cell_type": "code",
   "execution_count": 43,
   "id": "7db1e884",
   "metadata": {},
   "outputs": [
    {
     "data": {
      "text/plain": [
       "[3, 9, 13, 51, 77, 100]"
      ]
     },
     "execution_count": 43,
     "metadata": {},
     "output_type": "execute_result"
    }
   ],
   "source": [
    "lst8.reverse()   # 리스트 순서를 역순으로 뒤집는 함수\n",
    "lst8"
   ]
  },
  {
   "cell_type": "code",
   "execution_count": 45,
   "id": "1947e8d3",
   "metadata": {},
   "outputs": [
    {
     "name": "stdout",
     "output_type": "stream",
     "text": [
      "[100, 77, 51, 13, 9, 3]\n"
     ]
    }
   ],
   "source": [
    "# << Tip >>\n",
    "lst8 = [9 , 77, 13 , 51, 100, 3]\n",
    "lst8.sort(reverse = True)    #shift + tab : 함수의 속성을 볼 수 있는 키워드\n",
    "print(lst8)"
   ]
  },
  {
   "cell_type": "markdown",
   "id": "de451e04",
   "metadata": {},
   "source": [
    "#### 리스트 값 위치 반환 및 제거 함수\n",
    "- 리스트이름.index()\n",
    "- 리스트이름.pop()"
   ]
  },
  {
   "cell_type": "code",
   "execution_count": 53,
   "id": "76ae7b0c",
   "metadata": {},
   "outputs": [
    {
     "data": {
      "text/plain": [
       "2"
      ]
     },
     "execution_count": 53,
     "metadata": {},
     "output_type": "execute_result"
    }
   ],
   "source": [
    "lst9 = ['a', 'b', 'c', 'd', 'e', 'f' ]\n",
    "lst9.index('c')     # 'c'라는 요소가 있는 인덱스 위치 반환"
   ]
  },
  {
   "cell_type": "code",
   "execution_count": 54,
   "id": "91c26b52",
   "metadata": {},
   "outputs": [
    {
     "name": "stdout",
     "output_type": "stream",
     "text": [
      "['a', 'b', 'c', 'd', 'e', 'f']\n"
     ]
    },
    {
     "data": {
      "text/plain": [
       "'f'"
      ]
     },
     "execution_count": 54,
     "metadata": {},
     "output_type": "execute_result"
    }
   ],
   "source": [
    "print(lst9)\n",
    "lst9.pop()       # 리스트 맨 뒤에 있는 값을 찾아서 반환해준 후 삭제"
   ]
  },
  {
   "cell_type": "code",
   "execution_count": 56,
   "id": "ed313c30",
   "metadata": {},
   "outputs": [
    {
     "data": {
      "text/plain": [
       "'e'"
      ]
     },
     "execution_count": 56,
     "metadata": {},
     "output_type": "execute_result"
    }
   ],
   "source": [
    "lst9.pop()"
   ]
  },
  {
   "cell_type": "markdown",
   "id": "651c63d6",
   "metadata": {},
   "source": [
    "#### ★리스트 길이 확인★"
   ]
  },
  {
   "cell_type": "code",
   "execution_count": 58,
   "id": "ec9a83ac",
   "metadata": {},
   "outputs": [
    {
     "data": {
      "text/plain": [
       "6"
      ]
     },
     "execution_count": 58,
     "metadata": {},
     "output_type": "execute_result"
    }
   ],
   "source": [
    "lst10 = [0, 1, 2 ,3, 4, 5]\n",
    "len(lst10)"
   ]
  },
  {
   "cell_type": "code",
   "execution_count": null,
   "id": "b9d1ef2e",
   "metadata": {},
   "outputs": [],
   "source": [
    "# 길이 != 인덱스 번호\n",
    "# 길이 = 요소의 개수 = 6\n",
    "# 인덱스 끝번호 = 5"
   ]
  },
  {
   "cell_type": "markdown",
   "id": "b4a6cccd",
   "metadata": {},
   "source": [
    "### 튜플\n",
    "- 파이썬의 자료 구조 형태 중 하나\n",
    "- 순서가 있는 집합으로 \"추가, 수정, 삭제 불가능\"\n",
    "- 기호는 소괄호를 사용, 튜플 내부 요소는 콤마로 구분"
   ]
  },
  {
   "cell_type": "code",
   "execution_count": 60,
   "id": "c0fe82eb",
   "metadata": {},
   "outputs": [
    {
     "data": {
      "text/plain": [
       "(1, 2, ('my', 'name'))"
      ]
     },
     "execution_count": 60,
     "metadata": {},
     "output_type": "execute_result"
    }
   ],
   "source": [
    "a = ()\n",
    "\n",
    "b = (1, 2, 3)\n",
    "\n",
    "c = ('my', 'name', 'is', 'MS')\n",
    "\n",
    "d = (1, 2, 'my', 'name')\n",
    "\n",
    "e = (1, 2, ('my', 'name'))\n",
    "e"
   ]
  },
  {
   "cell_type": "markdown",
   "id": "13fdce3f",
   "metadata": {},
   "source": [
    "#### 튜플 인덱싱 \n",
    "튜플이름[인덱스번호]"
   ]
  },
  {
   "cell_type": "code",
   "execution_count": 61,
   "id": "e07f42c5",
   "metadata": {},
   "outputs": [
    {
     "data": {
      "text/plain": [
       "(0, 1, 2, 3, ('a', 'b', 'c'), 5)"
      ]
     },
     "execution_count": 61,
     "metadata": {},
     "output_type": "execute_result"
    }
   ],
   "source": [
    "tp1 = (0, 1, 2, 3, ('a', 'b', 'c'), 5)\n",
    "tp1"
   ]
  },
  {
   "cell_type": "code",
   "execution_count": 62,
   "id": "6adaa2a8",
   "metadata": {},
   "outputs": [
    {
     "data": {
      "text/plain": [
       "2"
      ]
     },
     "execution_count": 62,
     "metadata": {},
     "output_type": "execute_result"
    }
   ],
   "source": [
    "# 2번 인덱스 위치 값에 접근\n",
    "tp1[2]"
   ]
  },
  {
   "cell_type": "code",
   "execution_count": 63,
   "id": "86f733f9",
   "metadata": {},
   "outputs": [
    {
     "data": {
      "text/plain": [
       "('a', 'b', 'c')"
      ]
     },
     "execution_count": 63,
     "metadata": {},
     "output_type": "execute_result"
    }
   ],
   "source": [
    "# 4번 인덱스 위치 값에 접근\n",
    "tp1[4]"
   ]
  },
  {
   "cell_type": "markdown",
   "id": "f6a6a9cd",
   "metadata": {},
   "source": [
    "#### 튜플 슬라이싱\n",
    "튜플이름[시작 인덱스 : 끝 인덱스 +1]"
   ]
  },
  {
   "cell_type": "code",
   "execution_count": 65,
   "id": "43ffe18e",
   "metadata": {},
   "outputs": [
    {
     "data": {
      "text/plain": [
       "(0, 1, 2, 3, ('a', 'b', 'c'), 5)"
      ]
     },
     "execution_count": 65,
     "metadata": {},
     "output_type": "execute_result"
    }
   ],
   "source": [
    "tp1"
   ]
  },
  {
   "cell_type": "code",
   "execution_count": 66,
   "id": "3aab721c",
   "metadata": {},
   "outputs": [
    {
     "data": {
      "text/plain": [
       "(1, 2)"
      ]
     },
     "execution_count": 66,
     "metadata": {},
     "output_type": "execute_result"
    }
   ],
   "source": [
    "# 1, 2 라는 요소값에 접근\n",
    "tp1[1:3]"
   ]
  },
  {
   "cell_type": "code",
   "execution_count": 67,
   "id": "85e9e42d",
   "metadata": {},
   "outputs": [
    {
     "data": {
      "text/plain": [
       "(3, ('a', 'b', 'c'), 5)"
      ]
     },
     "execution_count": 67,
     "metadata": {},
     "output_type": "execute_result"
    }
   ],
   "source": [
    "# 인덱스 3번부터 요소 끝까지 접근\n",
    "tp1[3:]"
   ]
  },
  {
   "cell_type": "markdown",
   "id": "9bb8b122",
   "metadata": {},
   "source": [
    "#### 튜플은 내부 요소 변경 불가능"
   ]
  },
  {
   "cell_type": "code",
   "execution_count": 69,
   "id": "dea0806f",
   "metadata": {
    "collapsed": true
   },
   "outputs": [
    {
     "ename": "TypeError",
     "evalue": "'tuple' object does not support item assignment",
     "output_type": "error",
     "traceback": [
      "\u001b[1;31m---------------------------------------------------------------------------\u001b[0m",
      "\u001b[1;31mTypeError\u001b[0m                                 Traceback (most recent call last)",
      "Cell \u001b[1;32mIn[69], line 2\u001b[0m\n\u001b[0;32m      1\u001b[0m tp2 \u001b[38;5;241m=\u001b[39m (\u001b[38;5;124m'\u001b[39m\u001b[38;5;124ma\u001b[39m\u001b[38;5;124m'\u001b[39m, \u001b[38;5;124m'\u001b[39m\u001b[38;5;124mb\u001b[39m\u001b[38;5;124m'\u001b[39m, \u001b[38;5;124m'\u001b[39m\u001b[38;5;124mc\u001b[39m\u001b[38;5;124m'\u001b[39m)\n\u001b[1;32m----> 2\u001b[0m tp2[\u001b[38;5;241m1\u001b[39m] \u001b[38;5;241m=\u001b[39m \u001b[38;5;124m'\u001b[39m\u001b[38;5;124md\u001b[39m\u001b[38;5;124m'\u001b[39m\n",
      "\u001b[1;31mTypeError\u001b[0m: 'tuple' object does not support item assignment"
     ]
    }
   ],
   "source": [
    "tp2 = ('a', 'b', 'c')\n",
    "tp2[1] = 'd'   # 오류 발생! \n",
    "# TypeError: 'tuple' object does not support item assignment\n",
    "# 튜플은 내부 요소 값의 변경이 불가능하다!"
   ]
  },
  {
   "cell_type": "markdown",
   "id": "afc300e1",
   "metadata": {},
   "source": [
    "#### 튜플 길이 확인"
   ]
  },
  {
   "cell_type": "code",
   "execution_count": 70,
   "id": "d2d60217",
   "metadata": {},
   "outputs": [
    {
     "data": {
      "text/plain": [
       "('a', 'b', 'c')"
      ]
     },
     "execution_count": 70,
     "metadata": {},
     "output_type": "execute_result"
    }
   ],
   "source": [
    "tp2"
   ]
  },
  {
   "cell_type": "code",
   "execution_count": 71,
   "id": "ef523222",
   "metadata": {},
   "outputs": [
    {
     "data": {
      "text/plain": [
       "3"
      ]
     },
     "execution_count": 71,
     "metadata": {},
     "output_type": "execute_result"
    }
   ],
   "source": [
    "len(tp2)"
   ]
  },
  {
   "cell_type": "markdown",
   "id": "4c6efe43",
   "metadata": {},
   "source": [
    "#### 해당 데이터의 포함여부 확인\n",
    "- 멤버 연산자 : 포함관계를 boolean 자료형으로 출력"
   ]
  },
  {
   "cell_type": "code",
   "execution_count": 73,
   "id": "17e60246",
   "metadata": {},
   "outputs": [
    {
     "data": {
      "text/plain": [
       "True"
      ]
     },
     "execution_count": 73,
     "metadata": {},
     "output_type": "execute_result"
    }
   ],
   "source": [
    "str1 = '파이썬 최고!'\n",
    "'최고' in str1   # in 키워드"
   ]
  },
  {
   "cell_type": "code",
   "execution_count": 75,
   "id": "9ca5deec",
   "metadata": {},
   "outputs": [
    {
     "data": {
      "text/plain": [
       "True"
      ]
     },
     "execution_count": 75,
     "metadata": {},
     "output_type": "execute_result"
    }
   ],
   "source": [
    "'best'  not in str1"
   ]
  },
  {
   "attachments": {
    "image.png": {
     "image/png": "[encoded data removed]"
    }
   },
   "cell_type": "markdown",
   "id": "eb393d6c",
   "metadata": {},
   "source": [
    "- 실습예제\n",
    "- 다음과 같이 리스트에 사용자가 입력한 글자가 어디에 포함되어 있는지 출력하는 프로그램을 만들어보자.\n",
    "![image.png](attachment:image.png)"
   ]
  },
  {
   "cell_type": "code",
   "execution_count": 76,
   "id": "8e688041",
   "metadata": {},
   "outputs": [],
   "source": [
    "lst = ['딸기', '바나나', '수박', '체리', '포도', '블루베리', '복숭아', '멜론']"
   ]
  },
  {
   "cell_type": "code",
   "execution_count": 92,
   "id": "f85bb274",
   "metadata": {
    "collapsed": true
   },
   "outputs": [
    {
     "name": "stdout",
     "output_type": "stream",
     "text": [
      "*********************************************\n",
      "검색할 문자를 입력하세요 >> 오렌지\n"
     ]
    },
    {
     "ename": "ValueError",
     "evalue": "'오렌지' is not in list",
     "output_type": "error",
     "traceback": [
      "\u001b[1;31m---------------------------------------------------------------------------\u001b[0m",
      "\u001b[1;31mValueError\u001b[0m                                Traceback (most recent call last)",
      "Cell \u001b[1;32mIn[92], line 4\u001b[0m\n\u001b[0;32m      2\u001b[0m lst \u001b[38;5;241m=\u001b[39m [\u001b[38;5;124m'\u001b[39m\u001b[38;5;124m딸기\u001b[39m\u001b[38;5;124m'\u001b[39m, \u001b[38;5;124m'\u001b[39m\u001b[38;5;124m바나나\u001b[39m\u001b[38;5;124m'\u001b[39m, \u001b[38;5;124m'\u001b[39m\u001b[38;5;124m수박\u001b[39m\u001b[38;5;124m'\u001b[39m, \u001b[38;5;124m'\u001b[39m\u001b[38;5;124m체리\u001b[39m\u001b[38;5;124m'\u001b[39m, \u001b[38;5;124m'\u001b[39m\u001b[38;5;124m포도\u001b[39m\u001b[38;5;124m'\u001b[39m, \u001b[38;5;124m'\u001b[39m\u001b[38;5;124m블루베리\u001b[39m\u001b[38;5;124m'\u001b[39m, \u001b[38;5;124m'\u001b[39m\u001b[38;5;124m복숭아\u001b[39m\u001b[38;5;124m'\u001b[39m, \u001b[38;5;124m'\u001b[39m\u001b[38;5;124m멜론\u001b[39m\u001b[38;5;124m'\u001b[39m]\n\u001b[0;32m      3\u001b[0m fruit \u001b[38;5;241m=\u001b[39m \u001b[38;5;28minput\u001b[39m(\u001b[38;5;124m'\u001b[39m\u001b[38;5;124m검색할 문자를 입력하세요 >> \u001b[39m\u001b[38;5;124m'\u001b[39m)\n\u001b[1;32m----> 4\u001b[0m a \u001b[38;5;241m=\u001b[39m lst\u001b[38;5;241m.\u001b[39mindex(fruit)     \n\u001b[0;32m      6\u001b[0m \u001b[38;5;28;01mif\u001b[39;00m fruit \u001b[38;5;129;01min\u001b[39;00m lst : \n\u001b[0;32m      7\u001b[0m     \u001b[38;5;28mprint\u001b[39m(\u001b[38;5;124mf\u001b[39m\u001b[38;5;124m'\u001b[39m\u001b[38;5;132;01m{\u001b[39;00mfruit\u001b[38;5;132;01m}\u001b[39;00m\u001b[38;5;124m는 리스트 \u001b[39m\u001b[38;5;132;01m{\u001b[39;00ma\u001b[38;5;132;01m}\u001b[39;00m\u001b[38;5;124m번에 들어있습니다. \u001b[39m\u001b[38;5;124m'\u001b[39m)\n",
      "\u001b[1;31mValueError\u001b[0m: '오렌지' is not in list"
     ]
    }
   ],
   "source": [
    "print('*'*45)\n",
    "lst = ['딸기', '바나나', '수박', '체리', '포도', '블루베리', '복숭아', '멜론']\n",
    "fruit = input('검색할 문자를 입력하세요 >> ')\n",
    "a = lst.index(fruit)    \n",
    "\n",
    "if fruit in lst : \n",
    "    print(f'{fruit}는 리스트 {a}번에 들어있습니다. ')\n",
    "elif fruit not in lst : \n",
    "    print(f'{fruit}는 리스트에 들어있지 않습니다.')\n",
    "print('*'*45)\n",
    "\n",
    "# fruit가 리스트 안에 없는 문자일 경우 -->오류 발생!\n",
    "# ValueError: '오렌지' is not in list\n",
    "# 인덱스 함수가 조건문 밖에 있으면 조건문 실행 전에 미리 찾음 -> 리스트 안에 없는 요소일 경우 조건문을 실행 못 함!!!!\n",
    "# 찾고자 하는 요소가 만약 리스트 안에 있다면 리스트 몇 번째에 있는지 찾게 해야함!"
   ]
  },
  {
   "cell_type": "code",
   "execution_count": 93,
   "id": "79f6432b",
   "metadata": {},
   "outputs": [
    {
     "name": "stdout",
     "output_type": "stream",
     "text": [
      "*********************************************\n",
      "검색할 문자를 입력하세요 >> 블루베리\n",
      "블루베리는 리스트 5번에 들어있습니다. \n",
      "*********************************************\n"
     ]
    }
   ],
   "source": [
    "print('*'*45)\n",
    "lst = ['딸기', '바나나', '수박', '체리', '포도', '블루베리', '복숭아', '멜론']\n",
    "fruit = input('검색할 문자를 입력하세요 >> ')\n",
    "\n",
    "if fruit in lst : \n",
    "    a = lst.index(fruit)\n",
    "    print(f'{fruit}는 리스트 {a}번에 들어있습니다. ')\n",
    "elif fruit not in lst : \n",
    "    print(f'{fruit}는 리스트에 들어있지 않습니다.')\n",
    "print('*'*45)"
   ]
  },
  {
   "cell_type": "code",
   "execution_count": 91,
   "id": "5014a3df",
   "metadata": {},
   "outputs": [
    {
     "name": "stdout",
     "output_type": "stream",
     "text": [
      "*********************************************\n",
      "검색할 문자를 입력하세요 >> 오렌지\n",
      "오렌지는 리스트에 들어있지 않습니다.\n",
      "*********************************************\n"
     ]
    }
   ],
   "source": [
    "print('*'*45)\n",
    "fruit = input('검색할 문자를 입력하세요 >> ')\n",
    "\n",
    "if fruit in lst : \n",
    "    a = lst.index(fruit)\n",
    "    print(f'{fruit}는 리스트 {a}번에 들어있습니다. ')\n",
    "else :  \n",
    "    print(f'{fruit}는 리스트에 들어있지 않습니다.')\n",
    "print('*'*45)"
   ]
  },
  {
   "cell_type": "code",
   "execution_count": 97,
   "id": "0bbfae6c",
   "metadata": {},
   "outputs": [
    {
     "name": "stdout",
     "output_type": "stream",
     "text": [
      "*********************************************\n",
      "검색할 문자를 입력하세요 >> 오렌지\n",
      "오렌지는 리스트에 들어있지 않습니다.\n",
      "['딸기', '바나나', '수박', '체리', '포도', '블루베리', '복숭아', '멜론', '오렌지']\n",
      "*********************************************\n"
     ]
    }
   ],
   "source": [
    "print('*'*45)\n",
    "fruit = input('검색할 문자를 입력하세요 >> ')\n",
    "\n",
    "if fruit in lst : \n",
    "    print(f'{fruit}는 리스트 {lst.index(fruit)}번에 들어있습니다. ')\n",
    "else :  \n",
    "    print(f'{fruit}는 리스트에 들어있지 않습니다.')\n",
    "    lst.append(fruit)                  # 들어있지 않은 문자는 리스트에 추가하기\n",
    "    print(lst)\n",
    "print('*'*45)"
   ]
  },
  {
   "cell_type": "code",
   "execution_count": null,
   "id": "bd9c2944",
   "metadata": {},
   "outputs": [],
   "source": []
  },
  {
   "cell_type": "code",
   "execution_count": null,
   "id": "0c953b16",
   "metadata": {},
   "outputs": [],
   "source": []
  }
 ],
 "metadata": {
  "kernelspec": {
   "display_name": "Python 3 (ipykernel)",
   "language": "python",
   "name": "python3"
  },
  "language_info": {
   "codemirror_mode": {
    "name": "ipython",
    "version": 3
   },
   "file_extension": ".py",
   "mimetype": "text/x-python",
   "name": "python",
   "nbconvert_exporter": "python",
   "pygments_lexer": "ipython3",
   "version": "3.11.5"
  }
 },
 "nbformat": 4,
 "nbformat_minor": 5
}
